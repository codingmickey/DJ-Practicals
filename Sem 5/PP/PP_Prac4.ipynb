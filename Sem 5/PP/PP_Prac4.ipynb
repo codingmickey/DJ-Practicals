{
  "nbformat": 4,
  "nbformat_minor": 0,
  "metadata": {
    "colab": {
      "provenance": [],
      "collapsed_sections": [],
      "authorship_tag": "ABX9TyN5hA5XPk/2Q3bnJPle7h3U",
      "include_colab_link": true
    },
    "kernelspec": {
      "name": "python3",
      "display_name": "Python 3"
    },
    "language_info": {
      "name": "python"
    }
  },
  "cells": [
    {
      "cell_type": "markdown",
      "metadata": {
        "id": "view-in-github",
        "colab_type": "text"
      },
      "source": [
        "<a href=\"https://colab.research.google.com/github/codingmickey/DJ-Practicals/blob/master/Sem%205/PP/PP_Prac4.ipynb\" target=\"_parent\"><img src=\"https://colab.research.google.com/assets/colab-badge.svg\" alt=\"Open In Colab\"/></a>"
      ]
    },
    {
      "cell_type": "markdown",
      "source": [
        "# PP Programming Lab 4"
      ],
      "metadata": {
        "id": "knqcGZvgtitp"
      }
    },
    {
      "cell_type": "markdown",
      "source": [
        "## Object Oriented programming\n"
      ],
      "metadata": {
        "id": "Env7kbz9vPbt"
      }
    },
    {
      "cell_type": "markdown",
      "source": [
        "### Making a class\n",
        "1. Object Variable - holds the info related to the object\n",
        "2. Class variable - comomon to all the objects\n",
        "**Note**: We cannot directly access the object variable from the class, but we can access the class variables from the class directly\n",
        "\n",
        "- To make a variable private we can start the variable name with __Eg. \"__phone\""
      ],
      "metadata": {
        "id": "b5Z9bmq_vUCj"
      }
    },
    {
      "cell_type": "code",
      "execution_count": null,
      "metadata": {
        "colab": {
          "base_uri": "https://localhost:8080/"
        },
        "id": "p9AxcXSDtgHj",
        "outputId": "d59ac4c8-9dce-4333-fbec-f3a4d0a7be65"
      },
      "outputs": [
        {
          "output_type": "stream",
          "name": "stdout",
          "text": [
            "Name of 1st student: Kartik\n",
            "sapid of 2nd student: Meet\n",
            "College of both students are DJSCE DJSCE\n",
            "College of both students are IIT DJSCE\n",
            "DJSCE\n",
            "College of both students are IIT Mithibai\n",
            "9619247188\n",
            "Kartik 107 9619247188 IIT\n"
          ]
        }
      ],
      "source": [
        "class Student:\n",
        "  college = \"DJSCE\"\n",
        "  def __init__(self, name, sapid, phone):\n",
        "    self.name = name\n",
        "    self.sapid = sapid\n",
        "    self.__phone = phone\n",
        "\n",
        "  def printPhone(self):\n",
        "    print(self.__phone)\n",
        "\n",
        "  def display(self):\n",
        "    print(self.name, self.sapid, self.__phone, self.college)\n",
        "\n",
        "  def f():\n",
        "    print(\"f\")\n",
        "\n",
        "s1 = Student(\"Kartik\", 107, \"9619247188\")\n",
        "s2 = Student(\"Meet\", 105, \"9082374694\")\n",
        "\n",
        "print(\"Name of 1st student:\", s1.name)\n",
        "print(\"sapid of 2nd student:\", s2.name)\n",
        "print(\"College of both students are\", s1.college, s2.college)\n",
        "s1.college = \"IIT\"\n",
        "print(\"College of both students are\", s1.college, s2.college)\n",
        "\n",
        "print(Student.college)\n",
        "Student.college = \"Mithibai\"\n",
        "print(\"College of both students are\", s1.college, s2.college)\n",
        "\n",
        "# Phone as a self.__phone\n",
        "# print(s1.__phone)\n",
        "s1.printPhone()\n",
        "s1.display()\n",
        "\n",
        "# Doesn't work as the class method always passes an self argument\n",
        "# s1.f()"
      ]
    },
    {
      "cell_type": "markdown",
      "source": [
        "### Inheritence\n"
      ],
      "metadata": {
        "id": "WUfHnb79zMJx"
      }
    },
    {
      "cell_type": "code",
      "source": [
        "class Employee:\n",
        "  company = \"FaceBook\"\n",
        "  def __init__(self, name, empid, phone):\n",
        "    self.name = name\n",
        "    self.empid = empid\n",
        "    self.__phone = phone\n",
        "  \n",
        "  def display(self):\n",
        "    print(self.name, self.empid, self.__phone, self.company, end=' ')\n",
        "\n",
        "class Developer(Employee):\n",
        "  def __init__(self, name, empid, phone, language):\n",
        "    super().__init__(name, empid, phone)\n",
        "    self.language = language\n",
        "\n",
        "  def display(self):\n",
        "    super().display()\n",
        "    print(self.language)\n",
        "\n",
        "mickey = Developer(\"Kartik\", 107, \"9619247188\", \"C++\")\n",
        "mickey.display()\n",
        "\n",
        "meetp27 = Developer(\"Meet Patel\", 105, \"9082374694\", \"None\")\n",
        "meetp27.display()"
      ],
      "metadata": {
        "colab": {
          "base_uri": "https://localhost:8080/"
        },
        "id": "iFUZhMWAzR4H",
        "outputId": "e9256079-913e-443f-bad0-a29b2fa5e5ce"
      },
      "execution_count": null,
      "outputs": [
        {
          "output_type": "stream",
          "name": "stdout",
          "text": [
            "Kartik 107 9619247188 FaceBook C++\n",
            "Meet Patel 105 9082374694 FaceBook None\n"
          ]
        }
      ]
    },
    {
      "cell_type": "markdown",
      "source": [
        "### Experiment 3"
      ],
      "metadata": {
        "id": "vWwRkLkI2uqq"
      }
    },
    {
      "cell_type": "code",
      "source": [
        "class Employee:\n",
        "  company = \"FaceBook\"\n",
        "  def __init__(self, name, empid, phone):\n",
        "    self.name = name\n",
        "    self.empid = empid\n",
        "    self.__phone = phone\n",
        "  \n",
        "  def display(self):\n",
        "    print(self.name, self.empid, self.__phone, self.company, end=' ')\n",
        "\n",
        "class Developer(Employee):\n",
        "  def __init__(self, name, empid, phone, language):\n",
        "    super().__init__(name, empid, phone)\n",
        "    self.language = language\n",
        "\n",
        "  def display(self):\n",
        "    super().display()\n",
        "    print(self.language)\n",
        "\n",
        "class Tester(Employee):\n",
        "  def __init__(self, name, empid, phone, services):\n",
        "    super().__init__(name, empid, phone)\n",
        "    self.services = services\n",
        "\n",
        "  def display(self):\n",
        "    super().display()\n",
        "    print(self.services)\n",
        "\n",
        "class Manager(Employee):\n",
        "  def __init__(self, name, empid, phone, listOfEmployees):\n",
        "    super().__init__(name, empid, phone)\n",
        "    self.listOfEmployees = listOfEmployees\n",
        "\n",
        "  def display(self):\n",
        "    print(\"----------Manager Info----------\")\n",
        "    super().display()\n",
        "    print()\n",
        "    print(\"----------Employees managed by him/her-----------\")\n",
        "    for employee in self.listOfEmployees:\n",
        "      # employee.display()\n",
        "      typeOfEmployee = \"\"\n",
        "      if(type(employee) == Developer):\n",
        "        typeOfEmployee = \"Developer\"\n",
        "      elif(type(employee) == Tester):\n",
        "        typeOfEmployee = \"Tester\"\n",
        "      print(\"Name\", \"EmpId\", \"Type of Employee\")\n",
        "      print(employee.name, employee.empid, typeOfEmployee)\n",
        "\n",
        "  # Adds an employee and checks if there exists an employee which is already managed by the manager\n",
        "  def addEmployee(self, emp):\n",
        "    print(\"-------Adding Employee-------\")\n",
        "    employeePresent = [employee for employee in self.listOfEmployees if employee.empid == emp.empid]\n",
        "\n",
        "    if(len(employeePresent) == 0):\n",
        "      self.listOfEmployees.append(emp)\n",
        "      print(f\"Employee: {emp.empid} was added to Manager {self.name}\")\n",
        "    else:\n",
        "      print(f\"{self.name} already manages the Employee with empid: {emp.empid}\")\n",
        "\n",
        "  # Removes an employee which is managed by the manager and if not exists then print error message\n",
        "  def removeEmployee(self, empid):\n",
        "    print(\"-------Removing Employee-------\")\n",
        "    employeePresent = [employee for employee in self.listOfEmployees if employee.empid == empid]\n",
        "\n",
        "    # print(employeePresent)\n",
        "    if(len(employeePresent) > 0):\n",
        "      self.listOfEmployees.remove(employeePresent[0])\n",
        "      print(f\"Employee with empid{empid} was removed from Manager {self.name}\")\n",
        "    else:\n",
        "      print(f\"{self.name} doesn't manage the Employee with empid: {empid}\")\n",
        "\n",
        "d1 = Developer(\"Kartik\", 107, \"9619247188\", \"C++\")\n",
        "d2 = Developer(\"Meet Patel\", 105, \"9082374694\", \"Java\")\n",
        "d3 = Developer(\"Deevya\", 109, \"9082374693\", \"Python\")\n",
        "d4 = Developer(\"Marwin\", 108, \"9082374697\", \"Java\")\n",
        "\n",
        "t1 = Tester(\"Parth\", 102, \"9619247188\", \"AWS\")\n",
        "t2 = Tester(\"Vishwas\", 103, \"9082374694\", \"Kubernetes\")\n",
        "t3 = Tester(\"Greha\", 104, \"9082374693\", \"Docker\")\n",
        "t4 = Tester(\"Prachi\", 101, \"9082374697\", \"AWS\")\n",
        "\n",
        "m1 = Manager(\"Kush\", 97, \"4383749389\", [d1, d2, t1, t2])\n",
        "m2 = Manager(\"Dhruvi\", 98, \"834783929\", [d3, d4, t2, t3, t4])\n",
        "\n",
        "m1.display()\n",
        "m2.display()\n",
        "\n",
        "m1.addEmployee(t3)\n",
        "m1.addEmployee(t3)\n",
        "m2.removeEmployee(d3.empid)\n",
        "m2.removeEmployee(d3.empid)\n",
        "\n",
        "\n",
        "m1.display()\n",
        "m2.display()\n"
      ],
      "metadata": {
        "colab": {
          "base_uri": "https://localhost:8080/"
        },
        "id": "bCw9xXnT2yni",
        "outputId": "80df3411-243b-42ed-d407-60b5e75248e7"
      },
      "execution_count": null,
      "outputs": [
        {
          "output_type": "stream",
          "name": "stdout",
          "text": [
            "----------Manager Info----------\n",
            "Kush 97 4383749389 FaceBook \n",
            "----------Employees managed by him/her-----------\n",
            "Name EmpId Type of Emlpoyee\n",
            "Kartik 107 Developer\n",
            "Name EmpId Type of Emlpoyee\n",
            "Meet Patel 105 Developer\n",
            "Name EmpId Type of Emlpoyee\n",
            "Parth 102 Tester\n",
            "Name EmpId Type of Emlpoyee\n",
            "Vishwas 103 Tester\n",
            "----------Manager Info----------\n",
            "Dhruvi 98 834783929 FaceBook \n",
            "----------Employees managed by him/her-----------\n",
            "Name EmpId Type of Emlpoyee\n",
            "Deevya 109 Developer\n",
            "Name EmpId Type of Emlpoyee\n",
            "Marwin 108 Developer\n",
            "Name EmpId Type of Emlpoyee\n",
            "Vishwas 103 Tester\n",
            "Name EmpId Type of Emlpoyee\n",
            "Greha 104 Tester\n",
            "Name EmpId Type of Emlpoyee\n",
            "Prachi 101 Tester\n",
            "-------Adding Employee-------\n",
            "Employee: 104 was added to Manager Kush\n",
            "-------Adding Employee-------\n",
            "Kush already manages the Employee with empid: 104\n",
            "-------Removing Employee-------\n",
            "Employee with empid109 was removed from Manager Dhruvi\n",
            "-------Removing Employee-------\n",
            "Dhruvi doesn't manage the Employee with empid: 109\n",
            "----------Manager Info----------\n",
            "Kush 97 4383749389 FaceBook \n",
            "----------Employees managed by him/her-----------\n",
            "Name EmpId Type of Emlpoyee\n",
            "Kartik 107 Developer\n",
            "Name EmpId Type of Emlpoyee\n",
            "Meet Patel 105 Developer\n",
            "Name EmpId Type of Emlpoyee\n",
            "Parth 102 Tester\n",
            "Name EmpId Type of Emlpoyee\n",
            "Vishwas 103 Tester\n",
            "Name EmpId Type of Emlpoyee\n",
            "Greha 104 Tester\n",
            "----------Manager Info----------\n",
            "Dhruvi 98 834783929 FaceBook \n",
            "----------Employees managed by him/her-----------\n",
            "Name EmpId Type of Emlpoyee\n",
            "Marwin 108 Developer\n",
            "Name EmpId Type of Emlpoyee\n",
            "Vishwas 103 Tester\n",
            "Name EmpId Type of Emlpoyee\n",
            "Greha 104 Tester\n",
            "Name EmpId Type of Emlpoyee\n",
            "Prachi 101 Tester\n"
          ]
        }
      ]
    }
  ]
}