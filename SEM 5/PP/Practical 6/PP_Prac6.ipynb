{
 "cells": [
  {
   "cell_type": "markdown",
   "metadata": {},
   "source": [
    "# PP Programming Lab 7\n"
   ]
  },
  {
   "cell_type": "markdown",
   "metadata": {},
   "source": [
    "## Object Oriented programming\n"
   ]
  },
  {
   "cell_type": "markdown",
   "metadata": {},
   "source": [
    "### File Handling in Python"
   ]
  },
  {
   "cell_type": "code",
   "execution_count": 3,
   "metadata": {},
   "outputs": [
    {
     "name": "stdout",
     "output_type": "stream",
     "text": [
      "[1, 2, 23, 4, 5, 325, 3, 3, 2, 3, 4, 5, 4, 5, 3, 4]\n",
      "[1, 2, 2, 3, 3, 3, 3, 4, 4, 4, 4, 5, 5, 5, 23, 325]\n"
     ]
    }
   ],
   "source": [
    "def reverse_single_word(filename):\n",
    "  inFile = open(filename)\n",
    "  words = []\n",
    "  for line in inFile:\n",
    "    temp = line.split()\n",
    "\n",
    "    for tempWord in temp:\n",
    "      words.append(int(tempWord))\n",
    "    \n",
    "  inFile.close()\n",
    "\n",
    "  print(words)\n",
    "  words.sort()\n",
    "  print(words)\n",
    "  \n",
    "\n",
    "  outFile = open(\"result.txt\", \"w\")\n",
    "  for word in words:\n",
    "    outFile.writelines(str(word))\n",
    "    outFile.writelines(\" \")\n",
    "    \n",
    "  outFile.close()\n",
    "\n",
    "sorting(\"sample.txt\")\n"
   ]
  },
  {
   "cell_type": "markdown",
   "metadata": {},
   "source": [
    "### Reverse all the single words in the paragraph"
   ]
  },
  {
   "cell_type": "code",
   "execution_count": 2,
   "metadata": {},
   "outputs": [
    {
     "name": "stdout",
     "output_type": "stream",
     "text": [
      "['meroL', 'muspI', 'si', 'ylpmis', 'ymmud', 'txet', 'fo', 'eht', 'gnitnirp', 'dna', 'gnittesepyt', '.yrtsudni', 'meroL', 'muspI', 'sah', 'neeb', 'eht', \"s'yrtsudni\", 'dradnats', 'ymmud', 'txet', 'reve', 'ecnis', 'eht', ',s0051', 'nehw', 'na', 'nwonknu', 'retnirp', 'koot', 'a', 'yellag', 'fo', 'epyt', 'dna', 'delbmarcs', 'ti', 'ot', 'ekam', 'a', 'epyt', 'nemiceps', '.koob', 'tI', 'sah', 'devivrus', 'ton', 'ylno', 'evif', ',seirutnec', 'tub', 'osla', 'eht', 'pael', 'otni', 'cinortcele', ',gnittesepyt', 'gniniamer', 'yllaitnesse', '.degnahcnu', 'tI', 'saw', 'desiralupop', 'ni', 'eht', 's0691', 'htiw', 'eht', 'esaeler', 'fo', 'tesarteL', 'steehs', 'gniniatnoc', 'meroL', 'muspI', ',segassap', 'dna', 'erom', 'yltnecer', 'htiw', 'potksed', 'gnihsilbup', 'erawtfos', 'ekil', 'sudlA', 'rekaMegaP', 'gnidulcni', 'snoisrev', 'fo', 'meroL', '.muspI']\n",
      "['meroL', 'muspI', 'si', 'ylpmis', 'ymmud', 'txet', 'fo', 'eht', 'gnitnirp', 'dna', 'gnittesepyt', '.yrtsudni', 'meroL', 'muspI', 'sah', 'neeb', 'eht', \"s'yrtsudni\", 'dradnats', 'ymmud', 'txet', 'reve', 'ecnis', 'eht', ',s0051', 'nehw', 'na', 'nwonknu', 'retnirp', 'koot', 'a', 'yellag', 'fo', 'epyt', 'dna', 'delbmarcs', 'ti', 'ot', 'ekam', 'a', 'epyt', 'nemiceps', '.koob', 'tI', 'sah', 'devivrus', 'ton', 'ylno', 'evif', ',seirutnec', 'tub', 'osla', 'eht', 'pael', 'otni', 'cinortcele', ',gnittesepyt', 'gniniamer', 'yllaitnesse', '.degnahcnu', 'tI', 'saw', 'desiralupop', 'ni', 'eht', 's0691', 'htiw', 'eht', 'esaeler', 'fo', 'tesarteL', 'steehs', 'gniniatnoc', 'meroL', 'muspI', ',segassap', 'dna', 'erom', 'yltnecer', 'htiw', 'potksed', 'gnihsilbup', 'erawtfos', 'ekil', 'sudlA', 'rekaMegaP', 'gnidulcni', 'snoisrev', 'fo', 'meroL', '.muspI']\n"
     ]
    }
   ],
   "source": [
    "def reverse_single_word(filename):\n",
    "  inFile = open(filename)\n",
    "  words = []\n",
    "  for line in inFile:\n",
    "    temp = line.split()\n",
    "\n",
    "    for tempWord in temp:\n",
    "      words.append(tempWord[::-1])\n",
    "    \n",
    "  inFile.close()\n",
    "\n",
    "  print(words)\n",
    "#   words.sort()\n",
    "  print(words)\n",
    "  \n",
    "\n",
    "  outFile = open(\"result1.txt\", \"w\")\n",
    "  for word in words:\n",
    "    outFile.writelines(word)\n",
    "    outFile.writelines(\"\\n\")\n",
    "    \n",
    "  outFile.close()\n",
    "\n",
    "reverse_single_word(\"sample1.txt\")\n"
   ]
  },
  {
   "cell_type": "markdown",
   "metadata": {},
   "source": [
    "## Regex in python\n",
    "### Finding names in the given file\n",
    "\n",
    "- `\\w` -> Matching alphanumeric characters\n",
    "- `\\d` -> Matching digits from 0-9\n",
    "- `\\D` -> Matching non-digits\n",
    "- `\\s` -> Matching whitespace characters includeing `\\t`, `\\n`\n",
    "- `\\S` -> Matching non-white-space characters\n",
    "  "
   ]
  },
  {
   "cell_type": "code",
   "execution_count": null,
   "metadata": {},
   "outputs": [],
   "source": []
  },
  {
   "cell_type": "code",
   "execution_count": 83,
   "metadata": {},
   "outputs": [
    {
     "name": "stdout",
     "output_type": "stream",
     "text": [
      "Mr.Kartik\n",
      "Ms.Payal\n",
      "Mr.Meet\n",
      "Ms.Dhruv\n",
      "Mrs.Kranti\n",
      "mr.Pratik\n",
      "abc.xyz@gmail.com\n",
      "ms.com\n",
      "def@yaahoo.com\n",
      "https://www.google.com\n",
      "https://www.javatpiont.com\n",
      "https://www.djsce.ac.in\n",
      "www.udemy.com\n",
      "222-333-4444\n",
      "022674100\n",
      "22*23*33435\n",
      "\n",
      "['222-333-4444']\n"
     ]
    }
   ],
   "source": [
    "import re\n",
    "\n",
    "file = open(\"sample2.txt\")\n",
    "text = file.read()\n",
    "\n",
    "print(text)\n",
    "\n",
    "pattern = r'\\d{3}-\\d{3}-\\d{4}'\n",
    "\n",
    "phoneNums = re.findall(pattern, text)\n",
    "\n",
    "print(phoneNums)\n"
   ]
  },
  {
   "cell_type": "code",
   "execution_count": 116,
   "metadata": {},
   "outputs": [
    {
     "name": "stdout",
     "output_type": "stream",
     "text": [
      "['Mr.Kartik', 'Ms.Payal', 'Mr.Meet', 'Ms.Dhruv', 'Mrs.Kranti', 'mr.Pratik', 'ms.com']\n"
     ]
    }
   ],
   "source": [
    "namePattern = r'[mM][rs].*'\n",
    "names = re.findall(namePattern, text)\n",
    "\n",
    "print(names)"
   ]
  },
  {
   "cell_type": "code",
   "execution_count": 103,
   "metadata": {},
   "outputs": [
    {
     "name": "stdout",
     "output_type": "stream",
     "text": [
      "['abc.xyz@gmail.com', 'def@yaahoo.com']\n"
     ]
    }
   ],
   "source": [
    "emailPattern = r'\\S*\\@\\S*\\.\\S*'\n",
    "emails = re.findall(emailPattern, text)\n",
    "\n",
    "print(emails)"
   ]
  }
 ],
 "metadata": {
  "kernelspec": {
   "display_name": "Python 3.9.7 64-bit",
   "language": "python",
   "name": "python3"
  },
  "language_info": {
   "codemirror_mode": {
    "name": "ipython",
    "version": 3
   },
   "file_extension": ".py",
   "mimetype": "text/x-python",
   "name": "python",
   "nbconvert_exporter": "python",
   "pygments_lexer": "ipython3",
   "version": "3.9.7"
  },
  "orig_nbformat": 4,
  "vscode": {
   "interpreter": {
    "hash": "a938c2f6ea8a41c9715e20657b1ed70e8c77daa3ec544a82ef6e10b545bcbd9f"
   }
  }
 },
 "nbformat": 4,
 "nbformat_minor": 2
}
