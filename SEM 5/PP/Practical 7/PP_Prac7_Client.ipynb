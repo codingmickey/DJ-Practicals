{
 "cells": [
  {
   "cell_type": "code",
   "execution_count": 1,
   "metadata": {},
   "outputs": [
    {
     "name": "stdout",
     "output_type": "stream",
     "text": [
      "Server:  hello Kartik\n"
     ]
    }
   ],
   "source": [
    "import socket\n",
    "\n",
    "host = '127.0.0.1'\n",
    "port = 4000\n",
    "\n",
    "\n",
    "def client():\n",
    "    s = socket.socket()\n",
    "    s.connect((host, port))\n",
    "    while True:\n",
    "        x = input(\"Enter New Message: \")\n",
    "        y = x.encode('ascii')\n",
    "        s.send(y)\n",
    "        data = s.recv(1024)\n",
    "        d = data.decode('ascii')\n",
    "        print('Server: ', d)\n",
    "\n",
    "\n",
    "client()\n"
   ]
  }
 ],
 "metadata": {
  "kernelspec": {
   "display_name": "Python 3.9.7 64-bit",
   "language": "python",
   "name": "python3"
  },
  "language_info": {
   "codemirror_mode": {
    "name": "ipython",
    "version": 3
   },
   "file_extension": ".py",
   "mimetype": "text/x-python",
   "name": "python",
   "nbconvert_exporter": "python",
   "pygments_lexer": "ipython3",
   "version": "3.9.7"
  },
  "orig_nbformat": 4,
  "vscode": {
   "interpreter": {
    "hash": "a938c2f6ea8a41c9715e20657b1ed70e8c77daa3ec544a82ef6e10b545bcbd9f"
   }
  }
 },
 "nbformat": 4,
 "nbformat_minor": 2
}
