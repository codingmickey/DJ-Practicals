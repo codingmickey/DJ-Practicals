{
  "nbformat": 4,
  "nbformat_minor": 0,
  "metadata": {
    "colab": {
      "provenance": [],
      "collapsed_sections": [],
      "toc_visible": true,
      "authorship_tag": "ABX9TyPshWubzQ2lQDsP+etvhxKf",
      "include_colab_link": true
    },
    "kernelspec": {
      "name": "python3",
      "display_name": "Python 3"
    },
    "language_info": {
      "name": "python"
    }
  },
  "cells": [
    {
      "cell_type": "markdown",
      "metadata": {
        "id": "view-in-github",
        "colab_type": "text"
      },
      "source": [
        "<a href=\"https://colab.research.google.com/github/codingmickey/DJ-Practicals/blob/master/SEM%25205/PP/PP_Prac3.ipynb\" target=\"_parent\"><img src=\"https://colab.research.google.com/assets/colab-badge.svg\" alt=\"Open In Colab\"/></a>"
      ]
    },
    {
      "cell_type": "markdown",
      "source": [
        "# PP - Practical 3\n"
      ],
      "metadata": {
        "id": "G7H0Bxjhe7nG"
      }
    },
    {
      "cell_type": "markdown",
      "source": [
        "## Types of Loops"
      ],
      "metadata": {
        "id": "KKFUhz1xmjwq"
      }
    },
    {
      "cell_type": "markdown",
      "source": [
        "### For loop"
      ],
      "metadata": {
        "id": "nrUW7NQUfKWL"
      }
    },
    {
      "cell_type": "code",
      "source": [
        "for i in range(10):\n",
        "  print(i)"
      ],
      "metadata": {
        "colab": {
          "base_uri": "https://localhost:8080/"
        },
        "id": "t7afEW_Ie8V0",
        "outputId": "e3d67103-92b6-46ca-cde8-08dbbbcc53db"
      },
      "execution_count": null,
      "outputs": [
        {
          "output_type": "stream",
          "name": "stdout",
          "text": [
            "0\n",
            "1\n",
            "2\n",
            "3\n",
            "4\n",
            "5\n",
            "6\n",
            "7\n",
            "8\n",
            "9\n"
          ]
        }
      ]
    },
    {
      "cell_type": "code",
      "source": [
        "dict = {'a': 1, 'b': 2, 'c': 3}\n",
        "for i in dict:\n",
        "  print(\"%s %d\" %(i, dict[i]))"
      ],
      "metadata": {
        "colab": {
          "base_uri": "https://localhost:8080/"
        },
        "id": "8gBxwbQDfag5",
        "outputId": "5e0e66ab-7344-476a-f642-128e60f174d5"
      },
      "execution_count": null,
      "outputs": [
        {
          "output_type": "stream",
          "name": "stdout",
          "text": [
            "a 1\n",
            "b 2\n",
            "c 3\n"
          ]
        }
      ]
    },
    {
      "cell_type": "code",
      "source": [
        "myList = list()\n",
        "l = int(input(\"Enter the number of elements in list: \"))\n",
        "print(\"List elements are: \")\n",
        "\n",
        "for i in range(l):\n",
        "  myList.append(int(input()))\n",
        "\n",
        "print(myList)\n",
        "\n",
        "mySet = set()\n",
        "s = int(input(\"Enter the number of elements in set: \"))\n",
        "print(\"Set elements are: \")\n",
        "\n",
        "for i in range(s):\n",
        "  mySet.add(int(input()))\n",
        "\n",
        "print(mySet)\n"
      ],
      "metadata": {
        "colab": {
          "base_uri": "https://localhost:8080/"
        },
        "cellView": "code",
        "id": "QMK4euLGgIRt",
        "outputId": "8eda2af7-ea49-4d0e-bd02-b3653158c6e3"
      },
      "execution_count": null,
      "outputs": [
        {
          "output_type": "stream",
          "name": "stdout",
          "text": [
            "Enter the number of elements in list: 2\n",
            "List elements are: \n",
            "1\n",
            "5\n",
            "[1, 5]\n",
            "Enter the number of elements in set: 3\n",
            "Set elements are: \n",
            "3\n",
            "2\n",
            "1\n",
            "{1, 2, 3}\n"
          ]
        }
      ]
    },
    {
      "cell_type": "code",
      "source": [
        "myTupie = (0, 1, 2, 3, 7)\n",
        "print(\"Elements in tuple before insertion: \")\n",
        "print(myTupie)\n",
        "\n",
        "t = list(myTupie)\n",
        "\n",
        "t.append(int(input(\"Enter new element: \")))\n",
        "print(\"Elements in tuple after insertion: \")\n",
        "myTupie = tuple(t)\n",
        "\n",
        "print(myTupie)"
      ],
      "metadata": {
        "colab": {
          "base_uri": "https://localhost:8080/"
        },
        "id": "iEFCninzhteV",
        "outputId": "810e10f5-27d9-405e-a8d4-4183051e846e"
      },
      "execution_count": null,
      "outputs": [
        {
          "output_type": "stream",
          "name": "stdout",
          "text": [
            "Elements in tuple before insertion: \n",
            "(0, 1, 2, 3, 7)\n",
            "Enter new element: 323\n",
            "Elements in tuple after insertion: \n",
            "(0, 1, 2, 3, 7, 323)\n"
          ]
        }
      ]
    },
    {
      "cell_type": "code",
      "source": [
        "# Lalua pattern\n",
        "for i in range(1, 6):\n",
        "  for j in range(i):\n",
        "    print(i, end=' ')\n",
        "  print()"
      ],
      "metadata": {
        "colab": {
          "base_uri": "https://localhost:8080/"
        },
        "id": "Bj_yCoe3inP9",
        "outputId": "1d582bb0-9e2a-4dfe-f255-86e7fb534055"
      },
      "execution_count": null,
      "outputs": [
        {
          "output_type": "stream",
          "name": "stdout",
          "text": [
            "1 \n",
            "2 2 \n",
            "3 3 3 \n",
            "4 4 4 4 \n",
            "5 5 5 5 5 \n"
          ]
        }
      ]
    },
    {
      "cell_type": "code",
      "source": [
        "# Factorial of a number\n",
        "x = int(input(\"Enter the number: \"))\n",
        "\n",
        "ans = 1\n",
        "for i in range(1, x+1):\n",
        "  ans *= i\n",
        "\n",
        "print(x, \"\\b! =\", ans)"
      ],
      "metadata": {
        "colab": {
          "base_uri": "https://localhost:8080/"
        },
        "id": "5gV5mqCFk0Jz",
        "outputId": "37e2e908-6a09-42e5-d5bf-0cd7286aa74e"
      },
      "execution_count": null,
      "outputs": [
        {
          "output_type": "stream",
          "name": "stdout",
          "text": [
            "Enter the number: 5\n",
            "5 \b! = 120\n"
          ]
        }
      ]
    },
    {
      "cell_type": "markdown",
      "source": [
        "### While loop"
      ],
      "metadata": {
        "id": "9_KWMdR7mZE_"
      }
    },
    {
      "cell_type": "code",
      "source": [
        "count = 0\n",
        "while(count <= 7):\n",
        "  print(count)\n",
        "  count += 1"
      ],
      "metadata": {
        "colab": {
          "base_uri": "https://localhost:8080/"
        },
        "id": "feAL9pEylowN",
        "outputId": "698d0e38-da73-4b7e-b8f1-c86f6b66500f"
      },
      "execution_count": null,
      "outputs": [
        {
          "output_type": "stream",
          "name": "stdout",
          "text": [
            "0\n",
            "1\n",
            "2\n",
            "3\n",
            "4\n",
            "5\n",
            "6\n",
            "7\n"
          ]
        }
      ]
    },
    {
      "cell_type": "markdown",
      "source": [
        "### Find the area and perimeter of a rectangle"
      ],
      "metadata": {
        "id": "smIAG4BEnEVb"
      }
    },
    {
      "cell_type": "code",
      "source": [
        "length = int(input(\"Enter the length: \"))\n",
        "breath = int(input(\"Enter the breath: \"))\n",
        "\n",
        "area = 2*(length+breath)\n",
        "print(\"The area of the rectangle is \", area)"
      ],
      "metadata": {
        "colab": {
          "base_uri": "https://localhost:8080/"
        },
        "id": "WFEl2heTnDjV",
        "outputId": "0c743cc1-8569-4419-f5a8-0ccc2e93e1a1"
      },
      "execution_count": null,
      "outputs": [
        {
          "output_type": "stream",
          "name": "stdout",
          "text": [
            "Enter the length: 4\n",
            "Enter the breath: 6\n",
            "The area of the rectangle is  20\n"
          ]
        }
      ]
    },
    {
      "cell_type": "markdown",
      "source": [
        "### Swap 2 numbers without using 3rd variable"
      ],
      "metadata": {
        "id": "O8sr-enAnVUi"
      }
    },
    {
      "cell_type": "code",
      "source": [
        "a = int(input(\"Enter the 1st number: \"))\n",
        "b = int(input(\"Enter the 2nd number: \"))\n",
        "\n",
        "print(\"The numbers BEFORE swapping!\")\n",
        "print(\"a = \", a)\n",
        "print(\"b = \", b)\n",
        "\n",
        "a = a + b\n",
        "b = a - b\n",
        "a = a - b\n",
        "\n",
        "print(\"The numbers AFTER swapping!\")\n",
        "print(\"a = \", a)\n",
        "print(\"b = \", b)"
      ],
      "metadata": {
        "colab": {
          "base_uri": "https://localhost:8080/"
        },
        "id": "ASCKIJSJnWFJ",
        "outputId": "70ac9fb8-39cd-4cd2-efad-c19e071180ba"
      },
      "execution_count": null,
      "outputs": [
        {
          "output_type": "stream",
          "name": "stdout",
          "text": [
            "Enter the 1st number: 4\n",
            "Enter the 2nd number: 3\n",
            "The numbers BEFORE swapping!\n",
            "a =  4\n",
            "b =  3\n",
            "The numbers AFTER swapping!\n",
            "a =  3\n",
            "b =  4\n"
          ]
        }
      ]
    },
    {
      "cell_type": "markdown",
      "source": [
        "### Find the square root of a number"
      ],
      "metadata": {
        "id": "kx91CsPOnbvi"
      }
    },
    {
      "cell_type": "code",
      "source": [
        "n = int(input(\"Enter the number to find the square root: \"))\n",
        "sqrtN = n ** 0.5\n",
        "print(\"Square root of n = \", sqrtN)"
      ],
      "metadata": {
        "colab": {
          "base_uri": "https://localhost:8080/"
        },
        "id": "Mu_kPJP0nb_c",
        "outputId": "05a9592f-af1a-4574-802c-0eb6ac83a15f"
      },
      "execution_count": null,
      "outputs": [
        {
          "output_type": "stream",
          "name": "stdout",
          "text": [
            "Enter the number to find the square root: 4\n",
            "Square root of n =  2.0\n"
          ]
        }
      ]
    },
    {
      "cell_type": "markdown",
      "source": [
        "### Find if the year is a leap year or not"
      ],
      "metadata": {
        "id": "ySwquMLgraJE"
      }
    },
    {
      "cell_type": "code",
      "source": [
        "year = int(input(\"Enter the year: \"))\n",
        "\n",
        "if(year % 4 == 0):\n",
        "  if(year % 100 == 0):\n",
        "    if(year % 400 == 0):\n",
        "      print(year, \"is a leap year\")\n",
        "    else:\n",
        "      print(year, \"is not a leap year\")\n",
        "  else:\n",
        "    print(year, \"is a leap year\")\n",
        "else:\n",
        "  print(year, \"is not a leap year\")"
      ],
      "metadata": {
        "colab": {
          "base_uri": "https://localhost:8080/"
        },
        "id": "WL-CovdDpebz",
        "outputId": "5d418919-4e42-47ff-e404-ebd53c40daa6"
      },
      "execution_count": null,
      "outputs": [
        {
          "output_type": "stream",
          "name": "stdout",
          "text": [
            "Enter the year: 1700\n",
            "1700 is not a leap year\n"
          ]
        }
      ]
    },
    {
      "cell_type": "markdown",
      "source": [
        "Type of variable with if.. elif.. else"
      ],
      "metadata": {
        "id": "itnGT_VztTB9"
      }
    },
    {
      "cell_type": "code",
      "source": [
        "thing = 3+3j\n",
        "\n",
        "print(type(thing))\n",
        "\n",
        "if(type(thing) == int):\n",
        "  print(\"thing is an integer\")\n",
        "elif(type(thing) == str):\n",
        "  print(\"thing is a string\")\n",
        "elif(type(thing) == set):\n",
        "  print(\"thing is a set\")\n",
        "elif(type(thing) == list):\n",
        "  print(\"thing is a list\")\n",
        "elif(type(thing) == dict):\n",
        "  print(\"thing is a dict\")\n",
        "elif(type(thing) == tuple):\n",
        "  print(\"thing is a tuple\")\n",
        "elif(type(thing) == complex):\n",
        "  print(\"thing is a complex\")"
      ],
      "metadata": {
        "colab": {
          "base_uri": "https://localhost:8080/"
        },
        "id": "dqAyF5dSte47",
        "outputId": "ff620330-d52c-4117-c734-02c97436a833"
      },
      "execution_count": null,
      "outputs": [
        {
          "output_type": "stream",
          "name": "stdout",
          "text": [
            "<class 'complex'>\n",
            "thing is a complex\n"
          ]
        }
      ]
    },
    {
      "cell_type": "markdown",
      "source": [
        "### Find the Fibonacci series\n",
        "Using the if.. elif.. else conditions and while loop"
      ],
      "metadata": {
        "id": "jyJLykKqu-ZH"
      }
    },
    {
      "cell_type": "code",
      "source": [
        "fib = int(input(\"Enter the number of elements: \"))\n",
        "x0 = 0\n",
        "x1 = 1\n",
        "\n",
        "if n<=0:\n",
        "  print(\"Enter a +ve INTEGERRRR!\")\n",
        "elif n == 1:\n",
        "  print(\"Fibonacci sequence is \")\n",
        "  print(x0)\n",
        "else:\n",
        "  print(\"Fibonacci sequence is \")\n",
        "  print(x0, x1, end=' ')\n",
        "  \n",
        "  count = 1\n",
        "  while(count < n):\n",
        "    xn = x0 + x1\n",
        "    print(xn, end=' ')\n",
        "    x0 = x1\n",
        "    x1 = xn\n",
        "    count += 1"
      ],
      "metadata": {
        "colab": {
          "base_uri": "https://localhost:8080/"
        },
        "id": "IvRQXDigu2H4",
        "outputId": "82a8aafb-83fc-4dc2-9a6b-1e9265cece0c"
      },
      "execution_count": null,
      "outputs": [
        {
          "output_type": "stream",
          "name": "stdout",
          "text": [
            "Enter the number of elements: 5\n",
            "Fibonacci sequence is \n",
            "0 1 1 2 3 "
          ]
        }
      ]
    },
    {
      "cell_type": "markdown",
      "source": [
        "## Loop ko break karne wale keywords"
      ],
      "metadata": {
        "id": "2bUNxmaWw67m"
      }
    },
    {
      "cell_type": "markdown",
      "source": [
        "### Continue"
      ],
      "metadata": {
        "id": "uRzEH9T4xLN2"
      }
    },
    {
      "cell_type": "code",
      "source": [
        "for letter in 'Python':\n",
        "  if letter is 'y' or letter is 'o':\n",
        "    continue\n",
        "  print(\"Current letter is \", letter)"
      ],
      "metadata": {
        "colab": {
          "base_uri": "https://localhost:8080/"
        },
        "id": "UdZovcIfxLyW",
        "outputId": "fbdb3a86-6b96-4397-eff3-c1e34f00ab1d"
      },
      "execution_count": null,
      "outputs": [
        {
          "output_type": "stream",
          "name": "stdout",
          "text": [
            "Current letter is  P\n",
            "Current letter is  t\n",
            "Current letter is  h\n",
            "Current letter is  n\n"
          ]
        }
      ]
    },
    {
      "cell_type": "markdown",
      "source": [
        "Break - *crush*"
      ],
      "metadata": {
        "id": "lYh9MmerxZrd"
      }
    },
    {
      "cell_type": "code",
      "source": [
        "for letter in 'Python':\n",
        "  if letter is 't' or letter is 'o':\n",
        "    break\n",
        "  print(\"Current letter is \", letter)"
      ],
      "metadata": {
        "colab": {
          "base_uri": "https://localhost:8080/"
        },
        "id": "xUV-n2Gcxd8d",
        "outputId": "89deb9d4-a9e5-456e-bc8c-828a4af0b4e8"
      },
      "execution_count": null,
      "outputs": [
        {
          "output_type": "stream",
          "name": "stdout",
          "text": [
            "Current letter is  P\n",
            "Current letter is  y\n"
          ]
        }
      ]
    },
    {
      "cell_type": "markdown",
      "source": [
        "- input\n",
        "- print statement\n",
        "- write about the 3 programs\n",
        "- write about control statements\n",
        "- theory, syntax, output, example\n",
        "- write about loops\n",
        "- write about statements\n",
        "\n"
      ],
      "metadata": {
        "id": "sBFZrnGPyUUk"
      }
    }
  ]
}